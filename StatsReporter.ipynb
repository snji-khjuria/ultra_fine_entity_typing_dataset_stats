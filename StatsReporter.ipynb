{
 "cells": [
  {
   "cell_type": "code",
   "execution_count": 5,
   "metadata": {
    "collapsed": false,
    "deletable": true,
    "editable": true
   },
   "outputs": [],
   "source": [
    "#read the types in dictionary\n",
    "types_location = \"./types.txt\"\n",
    "type2id = {}\n",
    "id2type = {}\n",
    "with open(types_location) as f:\n",
    "    lines = f.readlines()\n",
    "    for i, line in enumerate(lines):\n",
    "        line = line.strip().lower()\n",
    "        type2id[line] = i\n",
    "        id2type[i]    = line"
   ]
  },
  {
   "cell_type": "code",
   "execution_count": 21,
   "metadata": {
    "collapsed": true,
    "deletable": true,
    "editable": true
   },
   "outputs": [],
   "source": [
    "train_data_locations     = [\"./train\"]\n",
    "complete_data_locations = [\"./train\", \"./dev\", \"./test\"]"
   ]
  },
  {
   "cell_type": "code",
   "execution_count": null,
   "metadata": {
    "collapsed": true,
    "deletable": true,
    "editable": true
   },
   "outputs": [],
   "source": [
    "import os\n",
    "from glob import glob\n",
    "result = [y for x in os.walk(PATH) for y in glob(os.path.join(x[0], '*.json'))]\n",
    "print(result)"
   ]
  },
  {
   "cell_type": "code",
   "execution_count": 18,
   "metadata": {
    "collapsed": true,
    "deletable": true,
    "editable": true
   },
   "outputs": [],
   "source": [
    "import os\n",
    "import sys\n",
    "def listdir(d):\n",
    "    if not os.path.isdir(d):\n",
    "        return [d]\n",
    "    else:\n",
    "        result=[]\n",
    "        for item in os.listdir(d):\n",
    "            result.extend(listdir((d+'/'+item)))\n",
    "        return result\n",
    "    \n",
    "def get_files(list_of_dirs):\n",
    "    result = []\n",
    "    for d in list_of_dirs:\n",
    "        result.extend(listdir(d))\n",
    "    return result"
   ]
  },
  {
   "cell_type": "code",
   "execution_count": 63,
   "metadata": {
    "collapsed": false,
    "deletable": true,
    "editable": true
   },
   "outputs": [],
   "source": [
    "from tqdm import tqdm\n",
    "import json\n",
    "import operator\n",
    "\n",
    "\n",
    "# def read_data(files):\n",
    "#     types_count = {}\n",
    "#     for f in files:\n",
    "#         for line in open(f, 'r'):\n",
    "#             line = json.loads(line)\n",
    "#             ystr = line['y_str']\n",
    "#             for y in ystr:\n",
    "#                 if not y in types_count:\n",
    "#                     types_count[y] = 0\n",
    "#                 types_count[y] = types_count[y]+1\n",
    "#     return types_count\n",
    "\n",
    "def type_list_to_id(ll):\n",
    "    global type2id\n",
    "    id_l = [str(type2id[l]) for l in ll]\n",
    "    id_l.sort()\n",
    "    return \" \".join(id_l)\n",
    "\n",
    "def id_str_to_type(id_str):\n",
    "    global id2type\n",
    "    ids = id_str.split(\" \")\n",
    "    return \"/\".join([id2type[int(id)] for id in ids])\n",
    "\n",
    "def get_type_id(ll):\n",
    "    ll.sort()\n",
    "    return \" \".join(ll)\n",
    "\n",
    "#consider each class independent\n",
    "def get_types_stats(files, type=\"clubbed\"):\n",
    "    types_count = {}\n",
    "    for json_file in tqdm(files):\n",
    "        for json_point in open(json_file, 'r'):\n",
    "            data_point = json.loads(json_point)\n",
    "            ystr = data_point['y_str']\n",
    "            ystr.sort()\n",
    "            k = \"/\".join(ystr)\n",
    "            k = [k]\n",
    "            if not type==\"clubbed\":\n",
    "                k = ystr\n",
    "            for key in k:\n",
    "                if not key in types_count:\n",
    "                    types_count[key] = 0\n",
    "                types_count[key] = types_count[key]+1\n",
    "    return types_count"
   ]
  },
  {
   "cell_type": "code",
   "execution_count": 85,
   "metadata": {
    "collapsed": true,
    "deletable": true,
    "editable": true
   },
   "outputs": [],
   "source": [
    "import json\n",
    "#write the dictionary for analysis\n",
    "def write_dict(dictionary, output):\n",
    "    sorted_d  = sorted(dictionary.items(), key=operator.itemgetter(0))\n",
    "    types_str = [k+\"\\t\"+str(v) for (k, v) in sorted_d]\n",
    "    types_str = \"\\n\".join(types_str)\n",
    "    with open(output, \"w\") as f:\n",
    "        f.write(types_str)\n",
    "    print(\"written\")"
   ]
  },
  {
   "cell_type": "code",
   "execution_count": 64,
   "metadata": {
    "collapsed": true,
    "deletable": true,
    "editable": true
   },
   "outputs": [],
   "source": [
    "train_data_locations     = [\"./train\"]"
   ]
  },
  {
   "cell_type": "code",
   "execution_count": 67,
   "metadata": {
    "collapsed": false,
    "deletable": true,
    "editable": true
   },
   "outputs": [
    {
     "name": "stderr",
     "output_type": "stream",
     "text": [
      "100%|██████████| 23/23 [09:21<00:00, 51.05s/it]\n"
     ]
    }
   ],
   "source": [
    "train_files = get_files(train_data_locations)\n",
    "clubbed_types_count = get_types_stats(train_files)"
   ]
  },
  {
   "cell_type": "code",
   "execution_count": 81,
   "metadata": {
    "collapsed": false,
    "deletable": true,
    "editable": true
   },
   "outputs": [
    {
     "name": "stdout",
     "output_type": "stream",
     "text": [
      "306721\n",
      "9460\n"
     ]
    }
   ],
   "source": [
    "print(len(clubbed_types_count))\n",
    "print(len(unclubbed_types_count))"
   ]
  },
  {
   "cell_type": "code",
   "execution_count": 86,
   "metadata": {
    "collapsed": false,
    "deletable": true,
    "editable": true
   },
   "outputs": [
    {
     "name": "stdout",
     "output_type": "stream",
     "text": [
      "written\n"
     ]
    }
   ],
   "source": [
    "write_dict(clubbed_types_count, \"./clubbed_stats\")"
   ]
  },
  {
   "cell_type": "code",
   "execution_count": 70,
   "metadata": {
    "collapsed": false,
    "deletable": true,
    "editable": true
   },
   "outputs": [
    {
     "name": "stderr",
     "output_type": "stream",
     "text": [
      "100%|██████████| 23/23 [11:21<00:00, 69.81s/it]\n"
     ]
    }
   ],
   "source": [
    "train_files = get_files(train_data_locations)\n",
    "unclubbed_types_count = get_types_stats(train_files, \"unclubbed\")"
   ]
  },
  {
   "cell_type": "code",
   "execution_count": 87,
   "metadata": {
    "collapsed": false,
    "deletable": true,
    "editable": true
   },
   "outputs": [
    {
     "name": "stdout",
     "output_type": "stream",
     "text": [
      "written\n"
     ]
    }
   ],
   "source": [
    "write_dict(unclubbed_types_count, \"./unclubbed_stats\")"
   ]
  },
  {
   "cell_type": "code",
   "execution_count": null,
   "metadata": {
    "collapsed": true,
    "deletable": true,
    "editable": true
   },
   "outputs": [],
   "source": [
    "myString.find('s')"
   ]
  },
  {
   "cell_type": "code",
   "execution_count": 93,
   "metadata": {
    "collapsed": true,
    "deletable": true,
    "editable": true
   },
   "outputs": [],
   "source": []
  },
  {
   "cell_type": "code",
   "execution_count": 95,
   "metadata": {
    "collapsed": false,
    "deletable": true,
    "editable": true
   },
   "outputs": [
    {
     "data": {
      "text/plain": [
       "'sanjeev'"
      ]
     },
     "execution_count": 95,
     "metadata": {},
     "output_type": "execute_result"
    }
   ],
   "source": []
  },
  {
   "cell_type": "code",
   "execution_count": 150,
   "metadata": {
    "collapsed": true,
    "deletable": true,
    "editable": true
   },
   "outputs": [],
   "source": [
    "#get the concrete type of specific type\n",
    "def get_concrete_type(t):\n",
    "    loc = t.find(\"/\")\n",
    "    if loc==-1:\n",
    "        return t\n",
    "    else:\n",
    "        return t[:loc]\n",
    "#function to perform this operation\n",
    "def get_stats_data_frame(types_count):\n",
    "    global type2id\n",
    "    types_bucket = {k:[] for k  in type2id.keys()}\n",
    "    min_bucket   = {k:0  for k  in type2id.keys()}\n",
    "    max_bucket   = {k:0  for k  in type2id.keys()}\n",
    "    total_bucket = {k:0  for k  in type2id.keys()}\n",
    "    for k, v in types_count.items():\n",
    "#         print(k)\n",
    "        concrete_type = get_concrete_type(k)\n",
    "        if not concrete_type in types_bucket:\n",
    "            print(\"issue with the type\")\n",
    "            print(concrete_type)\n",
    "            print(k)\n",
    "            types_bucket[concrete_type]=[]\n",
    "            min_bucket[concrete_type]=0\n",
    "            max_bucket[concrete_type]=0\n",
    "            total_bucket[concrete_type]=0\n",
    "        l = types_bucket[concrete_type]\n",
    "        l.append(k)\n",
    "        types_bucket[concrete_type] = l \n",
    "        min_bucket[concrete_type]   = min(v, min_bucket[concrete_type]) if not min_bucket[concrete_type]==0 else v\n",
    "        max_bucket[concrete_type]   = max(v, max_bucket[concrete_type])\n",
    "        total_bucket[concrete_type] = total_bucket[concrete_type] + v\n",
    "    pollution_per_class = {k:len(v) for k, v in types_bucket.items() if len(v)>0}\n",
    "    types_bucket = {k:\" && \".join(v) for k, v in types_bucket.items() if len(v)>0}\n",
    "    min_bucket  =  {k:v for k, v in min_bucket.items() if k in types_bucket.keys()}\n",
    "    max_bucket  =  {k:v for k, v in max_bucket.items() if k in types_bucket.keys()}\n",
    "    total_bucket  =  {k:v for k, v in total_bucket.items() if k in types_bucket.keys()}\n",
    "    print(\"processed everything\")\n",
    "    return types_bucket, pollution_per_class, min_bucket, max_bucket, total_bucket"
   ]
  },
  {
   "cell_type": "code",
   "execution_count": 151,
   "metadata": {
    "collapsed": false,
    "deletable": true,
    "editable": true
   },
   "outputs": [
    {
     "name": "stdout",
     "output_type": "stream",
     "text": [
      "issue with the type\n",
      "ad\n",
      "ad/effort\n",
      "issue with the type\n",
      "da\n",
      "da/soccer/team\n",
      "issue with the type\n",
      "al\n",
      "al/rebel\n",
      "issue with the type\n",
      "bo\n",
      "bo/report\n",
      "issue with the type\n",
      "fu\n",
      "fu/icon\n",
      "issue with the type\n",
      "es\n",
      "es/gas/greenhouse/greenhouse_gas\n",
      "issue with the type\n",
      "ac\n",
      "ac\n",
      "issue with the type\n",
      "ab\n",
      "ab\n",
      "issue with the type\n",
      "ai\n",
      "ai\n",
      "issue with the type\n",
      "ap\n",
      "ap\n",
      "issue with the type\n",
      "la\n",
      "la/professor\n",
      "issue with the type\n",
      "el\n",
      "el\n",
      "issue with the type\n",
      "en\n",
      "en\n",
      "issue with the type\n",
      "ed\n",
      "ed\n",
      "issue with the type\n",
      "ex\n",
      "ex\n",
      "issue with the type\n",
      "id\n",
      "id\n",
      "issue with the type\n",
      "ho\n",
      "ho/ho/ho\n",
      "issue with the type\n",
      "mo\n",
      "mo\n",
      "issue with the type\n",
      "mi\n",
      "mi\n",
      "issue with the type\n",
      "k\n",
      "k\n",
      "issue with the type\n",
      "ee\n",
      "ee\n",
      "issue with the type\n",
      "un\n",
      "un\n",
      "issue with the type\n",
      "li\n",
      "li\n",
      "issue with the type\n",
      "c.\n",
      "c./disk\n",
      "issue with the type\n",
      "yu\n",
      "yu\n",
      "issue with the type\n",
      "go\n",
      "go/home\n",
      "issue with the type\n",
      "ni\n",
      "ni\n",
      "issue with the type\n",
      "os\n",
      "os/system\n",
      "issue with the type\n",
      "c\n",
      "c/comment\n",
      "issue with the type\n",
      "lu\n",
      "lu/team\n",
      "issue with the type\n",
      "pa\n",
      "pa\n",
      "issue with the type\n",
      "te\n",
      "te/te\n",
      "issue with the type\n",
      "e\n",
      "e\n",
      "issue with the type\n",
      "ba\n",
      "ba/relief\n",
      "issue with the type\n",
      "xi\n",
      "xi\n",
      "issue with the type\n",
      "hi\n",
      "hi/musician\n",
      "issue with the type\n",
      "j\n",
      "j/journalist\n",
      "issue with the type\n",
      "v\n",
      "v\n",
      "issue with the type\n",
      "fa\n",
      "fa\n",
      "processed everything\n"
     ]
    }
   ],
   "source": [
    "types_bucket, pollution_per_class, min_bucket, max_bucket, total_bucket  = get_stats_data_frame(clubbed_types_count)"
   ]
  },
  {
   "cell_type": "code",
   "execution_count": 152,
   "metadata": {
    "collapsed": true,
    "deletable": true,
    "editable": true
   },
   "outputs": [],
   "source": [
    "pd_dict = {\"types\":types_bucket, \"pollution_per_class\":pollution_per_class, \"min\":min_bucket, \"max\":max_bucket, \"total\":total_bucket}"
   ]
  },
  {
   "cell_type": "code",
   "execution_count": 153,
   "metadata": {
    "collapsed": true,
    "deletable": true,
    "editable": true
   },
   "outputs": [],
   "source": [
    "import pandas as pd\n",
    "train_data_frame = pd.DataFrame(pd_dict)"
   ]
  },
  {
   "cell_type": "code",
   "execution_count": 154,
   "metadata": {
    "collapsed": false,
    "deletable": true,
    "editable": true
   },
   "outputs": [
    {
     "name": "stdout",
     "output_type": "stream",
     "text": [
      "                         max    min  pollution_per_class   total  \\\n",
      "a_team                    21     21                    1      21   \n",
      "ab                        42      1                    8      57   \n",
      "abandon                    1      1                    1       1   \n",
      "abbey                    296      1                   12     313   \n",
      "abduction                974      1                   38    1115   \n",
      "ability                11323      1                  138   11691   \n",
      "aboriginal                20      1                    2      21   \n",
      "abortion                1618      1                  100    2418   \n",
      "absence                 4823      1                   22    4905   \n",
      "absolute                  22     22                    1      22   \n",
      "abstract                  11      1                    3      13   \n",
      "absurd                     1      1                    1       1   \n",
      "abuse                   4339      1                  270    7231   \n",
      "ac                         2      1                    2       3   \n",
      "academic                 396      1                    8     448   \n",
      "academic_discipline       27     27                    1      27   \n",
      "academic_institution       2      2                    1       2   \n",
      "academician                1      1                   10      10   \n",
      "academy                 1050      1                  128    1642   \n",
      "academy_award             36     36                    1      36   \n",
      "accent                   814      1                   34     903   \n",
      "acceptance              1117      1                   47    1474   \n",
      "access                 13872      1                  545   15795   \n",
      "access_control             1      1                    1       1   \n",
      "access_road                2      1                    2       3   \n",
      "accession                525      1                   40     910   \n",
      "accident                9612      1                  279   12182   \n",
      "accidental                 7      7                    1       7   \n",
      "acclaim                  927      1                    6     938   \n",
      "accommodation            774      1                   71     978   \n",
      "...                      ...    ...                  ...     ...   \n",
      "wreck                    455    455                    1     455   \n",
      "wreckage                1289      1                    2    1290   \n",
      "wrestler                1398     43                    2    1441   \n",
      "wrestling                248      1                    3     250   \n",
      "wrist                    752    752                    1     752   \n",
      "write                      1      1                    1       1   \n",
      "writer                  8832     28                    2    8860   \n",
      "writing                30546  30546                    1   30546   \n",
      "wrong                    107    107                    1     107   \n",
      "wrongdoing              1637   1637                    1    1637   \n",
      "xi                         8      8                    1       8   \n",
      "yacht                    880      6                    2     886   \n",
      "yahoo                      6      6                    1       6   \n",
      "yang                      11     11                    1      11   \n",
      "yard                    1809   1809                    1    1809   \n",
      "year                  172127      2                    5  172145   \n",
      "yellow                    76     76                    1      76   \n",
      "yen                     4015      1                    2    4016   \n",
      "yes                        2      2                    1       2   \n",
      "yesterday                636    636                    1     636   \n",
      "yield                   1569   1569                    1    1569   \n",
      "yields                  1166   1166                    1    1166   \n",
      "yorker                    42     42                    1      42   \n",
      "youth                   3724   3724                    1    3724   \n",
      "youtube                   42     42                    1      42   \n",
      "yu                         5      5                    1       5   \n",
      "yuan                    2230   2230                    1    2230   \n",
      "zero                      70     70                    1      70   \n",
      "zone                    4008   4008                    1    4008   \n",
      "zoo                      939      1                    2     940   \n",
      "\n",
      "                                                                  types  \n",
      "a_team                                                      a_team/team  \n",
      "ab                    ab && ab/pack && ab/exercise && ab/muscle && a...  \n",
      "abandon                                                         abandon  \n",
      "abbey                 abbey/library && abbey/cemetery && abbey/churc...  \n",
      "abduction             abduction/convictions && abduction/allegation ...  \n",
      "ability               ability/force/piracy && ability/interception &...  \n",
      "aboriginal                                aboriginal/word && aboriginal  \n",
      "abortion              abortion/access && abortion/dispute && abortio...  \n",
      "absence               absence/rule && absence/period && absence/cost...  \n",
      "absolute                                                       absolute  \n",
      "abstract              abstract/research && abstract && abstract/edit...  \n",
      "absurd                                                           absurd  \n",
      "abuse                 abuse/tax && abuse/case/church/sex && abuse/pr...  \n",
      "ac                                                      ac && ac/couple  \n",
      "academic              academic/arm && academic/debate && academic/au...  \n",
      "academic_discipline                      academic_discipline/discipline  \n",
      "academic_institution                   academic_institution/institution  \n",
      "academician           academician/adult/analyst/articulator/authorit...  \n",
      "academy               academy/team && academy/school && academy/pict...  \n",
      "academy_award                                       academy_award/award  \n",
      "accent                accent/wall && accent/girl/valley/valley_girl ...  \n",
      "acceptance            acceptance/stage && acceptance/speech && accep...  \n",
      "access                access/access_control/control/user && access/r...  \n",
      "access_control                              access_control/band/control  \n",
      "access_road              access_road/road && access_road/road/toll_road  \n",
      "accession             accession/procedure && accession/drive && acce...  \n",
      "accident              accident/death/death_toll/toll/traffic && acci...  \n",
      "accidental                                                   accidental  \n",
      "acclaim               acclaim/television && acclaim/industry && accl...  \n",
      "accommodation         accommodation/block && accommodation/plan && a...  \n",
      "...                                                                 ...  \n",
      "wreck                                                             wreck  \n",
      "wreckage                                      wreckage && wreckage/year  \n",
      "wrestler                                  wrestler/wrestler && wrestler  \n",
      "wrestling              wrestling/wrist && wrestling/writer && wrestling  \n",
      "wrist                                                             wrist  \n",
      "write                                                             write  \n",
      "writer                                          writer/writer && writer  \n",
      "writing                                                         writing  \n",
      "wrong                                                             wrong  \n",
      "wrongdoing                                                   wrongdoing  \n",
      "xi                                                                   xi  \n",
      "yacht                                              yacht && yacht/yacht  \n",
      "yahoo                                                             yahoo  \n",
      "yang                                                               yang  \n",
      "yard                                                               yard  \n",
      "year                  year/youth && year/year/year/year && year/yiel...  \n",
      "yellow                                                           yellow  \n",
      "yen                                                     yen/zone && yen  \n",
      "yes                                                                 yes  \n",
      "yesterday                                                     yesterday  \n",
      "yield                                                             yield  \n",
      "yields                                                           yields  \n",
      "yorker                                                           yorker  \n",
      "youth                                                             youth  \n",
      "youtube                                                         youtube  \n",
      "yu                                                                   yu  \n",
      "yuan                                                               yuan  \n",
      "zero                                                               zero  \n",
      "zone                                                               zone  \n",
      "zoo                                                      zoo && zoo/zoo  \n",
      "\n",
      "[5562 rows x 5 columns]\n"
     ]
    }
   ],
   "source": [
    "print(train_data_frame)"
   ]
  },
  {
   "cell_type": "code",
   "execution_count": 155,
   "metadata": {
    "collapsed": false,
    "deletable": true,
    "editable": true
   },
   "outputs": [
    {
     "name": "stdout",
     "output_type": "stream",
     "text": [
      "Train Data frames available\n"
     ]
    }
   ],
   "source": [
    "train_complete_stats = \"./train_complete_stats.tsv\"\n",
    "train_data_frame.to_csv(train_complete_stats, sep='\\t')\n",
    "print(\"Train Data frames available\")"
   ]
  }
 ],
 "metadata": {
  "kernelspec": {
   "display_name": "matchnet_env",
   "language": "python",
   "name": "matchnet_env"
  },
  "language_info": {
   "codemirror_mode": {
    "name": "ipython",
    "version": 2
   },
   "file_extension": ".py",
   "mimetype": "text/x-python",
   "name": "python",
   "nbconvert_exporter": "python",
   "pygments_lexer": "ipython2",
   "version": "2.7.12"
  }
 },
 "nbformat": 4,
 "nbformat_minor": 2
}
